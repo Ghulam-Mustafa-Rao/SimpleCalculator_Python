{
  "nbformat": 4,
  "nbformat_minor": 0,
  "metadata": {
    "colab": {
      "provenance": []
    },
    "kernelspec": {
      "name": "python3",
      "display_name": "Python 3"
    },
    "language_info": {
      "name": "python"
    }
  },
  "cells": [
    {
      "cell_type": "markdown",
      "source": [
        "**Funtions**"
      ],
      "metadata": {
        "id": "4O1CmQ6OrgvI"
      }
    },
    {
      "cell_type": "code",
      "execution_count": null,
      "metadata": {
        "colab": {
          "base_uri": "https://localhost:8080/"
        },
        "id": "hgaMdkHLrUoY",
        "outputId": "8964dfb0-3017-4514-c258-d6d1238fe0ff"
      },
      "outputs": [
        {
          "output_type": "stream",
          "name": "stdout",
          "text": [
            "Example : 1+2+3*4/5\n",
            "Enter your equation : 1+2+3+4+5\n",
            "currentValue : 1\n",
            "currentValue : 2\n",
            "currentValue : 3\n",
            "currentValue : 4\n",
            "values : [1, 2, 3, 4, 5]\n",
            "signs : ['+', '+', '+', '+']\n",
            "15\n",
            "[1, 4, 9, 16, 25]\n",
            "[2, 4]\n",
            "[[1, 1], [0, 2], [1, 5]]\n"
          ]
        }
      ],
      "source": [
        "values=[]\n",
        "signs=[]\n",
        "\n",
        "print(\"Example : 1+2+3*4/5\")\n",
        "equation = input(\"Enter your equation : \")\n",
        "\n",
        "currentValue =\"\"\n",
        "\n",
        "for x in equation:\n",
        "  if (x.isdigit()):\n",
        "    currentValue=\"\".join([currentValue,x])\n",
        "  elif(currentValue.strip()!=\"\" and x in \"+-*/\"):\n",
        "    print(f\"currentValue : {currentValue}\")\n",
        "    values.append(int(currentValue))\n",
        "    signs.append(x)\n",
        "    currentValue=\"\"\n",
        "  else:\n",
        "    currentValue=\"\"\n",
        "\n",
        "if(currentValue.strip!=\"\"):\n",
        "  values.append(int(currentValue))\n",
        "  currentValue=\"\"\n",
        "\n",
        "\n",
        "print(f\"values : {values}\")\n",
        "print(f\"signs : {signs}\")\n",
        "\n",
        "\n",
        "def Calculator(values,signs):\n",
        "  if(values == [] or signs == []):\n",
        "    print(\"Equation invalid\")\n",
        "\n",
        "  v1=v1=values[0]\n",
        "  v2=0\n",
        "\n",
        "  for x in range(1,len(values)):\n",
        "    v2=values[x]\n",
        "    if(signs[x-1]==\"+\"):\n",
        "      v1+=v2\n",
        "    if(signs[x-1]==\"-\"):\n",
        "      v1-=v2\n",
        "    if(signs[x-1]==\"*\"):\n",
        "      v1*=v2\n",
        "    if(signs[x-1]==\"/\"):\n",
        "      v1/=v2\n",
        "\n",
        "  print(v1)\n",
        "\n",
        "Calculator(values,signs)\n",
        "\n",
        "\n",
        "\n",
        "\n",
        "mapE = map(lambda x: x**2 ,values)\n",
        "print(list(mapE))\n",
        "filterE = filter(lambda x: x%2==0 ,values)\n",
        "print(list(filterE))\n",
        "myList = [[0,2],[1,5],[1,1]]\n",
        "sortedE = sorted(myList ,key=lambda x:x[1] )\n",
        "print(list(sortedE))"
      ]
    },
    {
      "cell_type": "code",
      "source": [],
      "metadata": {
        "colab": {
          "base_uri": "https://localhost:8080/"
        },
        "id": "PkPB41ctwXWJ",
        "outputId": "a6f892f8-89f5-406d-a260-702c6c5a2343"
      },
      "execution_count": null,
      "outputs": [
        {
          "output_type": "stream",
          "name": "stdout",
          "text": [
            "Enter your value 1 : 5\n",
            "Enter your value 1 : 4\n",
            "5\n"
          ]
        }
      ]
    },
    {
      "cell_type": "code",
      "source": [],
      "metadata": {
        "colab": {
          "base_uri": "https://localhost:8080/"
        },
        "id": "T9f9hGHqw4I5",
        "outputId": "8a089f13-7322-4c74-8da9-e2650960a3da"
      },
      "execution_count": null,
      "outputs": [
        {
          "output_type": "stream",
          "name": "stdout",
          "text": [
            "2\n"
          ]
        }
      ]
    },
    {
      "cell_type": "code",
      "source": [],
      "metadata": {
        "colab": {
          "base_uri": "https://localhost:8080/"
        },
        "id": "4_y1m_5cCM2K",
        "outputId": "d9532102-f371-4670-dbc6-ecef4ef04fe6"
      },
      "execution_count": null,
      "outputs": [
        {
          "output_type": "stream",
          "name": "stdout",
          "text": [
            "Not found\n"
          ]
        }
      ]
    },
    {
      "cell_type": "code",
      "source": [],
      "metadata": {
        "id": "1yYzqyEJFMT8"
      },
      "execution_count": null,
      "outputs": []
    }
  ]
}